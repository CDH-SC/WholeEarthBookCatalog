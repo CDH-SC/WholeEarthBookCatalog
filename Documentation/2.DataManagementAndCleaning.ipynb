{
 "cells": [
  {
   "cell_type": "markdown",
   "metadata": {},
   "source": [
    "# Data Management and Cleaning\n",
    "\n",
    "## *An Overview of Clay's work*\n",
    "## Speeding up processes\n",
    "\n",
    "- To better observe the impact of adding filters or extra steps for data cleaning, Clay focused on improving data extracting and loading processes. \n",
    "<br>\n",
    "- Clay did this by rewriting code and he reported success.\n",
    "<br>\n",
    "- He also experimented with and wrote some functionality for serving the content with a simple RPC server which makes python functions available over a socket.\n",
    "<br>\n",
    "- Clay hopes to speed up the search functionality for finding similar titles because of how long it takes to load the data and filter titles that have regular expressions. He wants to write a module in C++ or Rust because Python is too slow at evaluating regular expressions.\n",
    "<br>\n",
    "- Clay is currently working on speeding up existing code as well as using clustering to figure out what regular expressions he needs to add to the clean up process.\n",
    "\n",
    "## Clustering Titles\n",
    "\n",
    "- Clay wrote some code for clustering titles but he ended up not committing to it because he did not find it helpful. \n",
    "\n",
    "\n",
    "## *Tools*\n",
    "\n",
    "Clay developed the following tools for managing and cleaning the data\n",
    "\n",
    "## -> data_extractor.py\n",
    "\n",
    "**Purpose:** To improve the speed of data extracting and loading processes\n",
    "\n",
    "**Functions:**\n",
    "- def loadData(n): Iterates over a batch n, pulls out relevant information, and cleans each value\n",
    "- def dequeueData(queue)\n",
    "- def enum_list(conn, counter, field_dict)\n",
    "\n",
    "**Main Function:**\n",
    "\n",
    "\n",
    "**Status:** (whether it is good to use, needs to be updated, not useful anymore, place to focus etc.)\n",
    "\n",
    "## -> distance_test.py\n",
    "\n",
    "**Purpose:**\n",
    "\n",
    "**Functions:**\n",
    "- def distance(i,j): used to get a matrix jaro distance\n",
    "- def get_dist_matrix(feature_dict): used to get the matrix\n",
    "\n",
    "**Status:**\n",
    "\n",
    "## -> gen_state_abbrevs.py, us-abbrevs.txt\n",
    "\n",
    "**Purpose:** Used for cleaning US state abbreviations\n",
    "\n",
    "## *Natural Language Processing Tools*\n",
    "\n",
    "## -> datacleaning.py\n",
    "\n",
    "## -> leveinshteintest.py"
   ]
  },
  {
   "cell_type": "code",
   "execution_count": null,
   "metadata": {},
   "outputs": [],
   "source": []
  }
 ],
 "metadata": {
  "kernelspec": {
   "display_name": "Python 3",
   "language": "python",
   "name": "python3"
  },
  "language_info": {
   "codemirror_mode": {
    "name": "ipython",
    "version": 3
   },
   "file_extension": ".py",
   "mimetype": "text/x-python",
   "name": "python",
   "nbconvert_exporter": "python",
   "pygments_lexer": "ipython3",
   "version": "3.7.3"
  }
 },
 "nbformat": 4,
 "nbformat_minor": 2
}
